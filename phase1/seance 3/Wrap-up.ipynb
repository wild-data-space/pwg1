{
 "cells": [
  {
   "cell_type": "markdown",
   "metadata": {},
   "source": [
    "<center><h1>Seance 3</h1>\n",
    "<b>17-01-2024</b></center>"
   ]
  },
  {
   "cell_type": "markdown",
   "metadata": {},
   "source": [
    "<h2>Fonctions</h2>\n",
    "<p>La définition des fonctions permet d'enregistrer un processus sous un nom, puis de l'utiliser à n'importe quel moment en appelant simplement le nom de la fonction.</p>\n",
    "<p>Les fonctions en Python peuvent être définies par le mot-clé <b>def</b>, suivi du nom de la fonction et des noms des arguments entre parenthèses. Afin d'aider l'utilisateur de la fonction à connaître le type des arguments, le type du résultat ou à donner des valeurs par défaut aux arguments, on peut les spécifier lors de la définition.</p>"
   ]
  },
  {
   "cell_type": "code",
   "execution_count": 1,
   "metadata": {},
   "outputs": [
    {
     "name": "stdout",
     "output_type": "stream",
     "text": [
      "False\n",
      "True\n",
      "False\n"
     ]
    }
   ],
   "source": [
    "def divisible (n: int = 1) -> bool: \n",
    "    #dans cette ligne on a definie le nom de la fonction comme divisible, cette fonction accepte une seule arguement de type n qui a une valeur par defaut de 1, la fonction donne un resultat de type boolean\n",
    "    if n % 5 == 0 and n % 3 == 0:\n",
    "        return True #le cas ou le nombre n est divisible par 5 et 3 la fonction donne True\n",
    "    return False #Si le nombre n'a pas executer le bloc de la fonction donc il n'est pas divisible par 5 ou par 3\n",
    "\n",
    "print(divisible(5))\n",
    "print(divisible(15))\n",
    "print(divisible(4))"
   ]
  },
  {
   "cell_type": "markdown",
   "metadata": {},
   "source": [
    "<p>Dans le cas ou la fonction n'a pas de partie <b>return</b> cette fonction n'aura plus de resultat, donc elle peut faire un processus mais sans donner un resultat.</p>\n",
    "<p>Normalement toute fonction en python doit avoir un resultat a retourner, les fonction processus qui ne retourne aucun resultat elle retourne <b>None</b> qui veut dire valeur vide</p>"
   ]
  },
  {
   "cell_type": "markdown",
   "metadata": {},
   "source": []
  },
  {
   "cell_type": "code",
   "execution_count": 2,
   "metadata": {},
   "outputs": [
    {
     "name": "stdout",
     "output_type": "stream",
     "text": [
      "False\n",
      "None\n",
      "<class 'NoneType'>\n"
     ]
    }
   ],
   "source": [
    "def divisible(n:int=1) -> bool:\n",
    "    if n % 5 == 0 and n % 3 == 0:\n",
    "        print (True)\n",
    "    print(False)\n",
    "#La nouvelle version de cette fonction ne retourne pas de valeur puis qu'elle ne contient pas un bloc return, mais elle va afficher True ou False, dans le cas ou on affecte cette fonction a une variable, la variable va contenire None\n",
    "a = divisible(5)\n",
    "print(a)\n",
    "print(type(a))"
   ]
  },
  {
   "cell_type": "markdown",
   "metadata": {},
   "source": [
    "<p style = 'color:red'>Le mot-cles <b>return</b> toujours termine l'execution de la fonction, pour cela, toute ligne ecrite apres ce mot-cle ne sera pas executee</p>"
   ]
  },
  {
   "cell_type": "markdown",
   "metadata": {},
   "source": [
    "<p>Une fonction peut retourner une tuple, ce qui la rendre capable de retourner plusieur valeur en meme temps en utilisant un seul bloc <b>return</b>, puis que python admis l'affectation multiple, ces valeurs peuvent etre affectees a plusieurs variables</p>"
   ]
  },
  {
   "cell_type": "code",
   "execution_count": 3,
   "metadata": {},
   "outputs": [
    {
     "name": "stdout",
     "output_type": "stream",
     "text": [
      "False\n",
      "divisible par 5\n"
     ]
    }
   ],
   "source": [
    "def divisible(n:int=1) -> (bool,str):\n",
    "    if n % 5 == 0 and n % 3 == 0:\n",
    "        return True , 'Divisible par les deux'\n",
    "    elif n % 5 == 0 :\n",
    "        return False , 'divisible par 5'\n",
    "    elif n % 3 == 0 :\n",
    "        return False , 'Divisible par 3'\n",
    "    return False, 'None'\n",
    "\n",
    "a,b = divisible(5)\n",
    "print(a)\n",
    "print (b)"
   ]
  },
  {
   "cell_type": "markdown",
   "metadata": {},
   "source": [
    "<p>Pour ajouter plus de description a une fonction, on peut utiliser la chaine de caractere multiligne avec <b>\"\"\" \"\"\"</b>.</p>"
   ]
  },
  {
   "cell_type": "code",
   "execution_count": 5,
   "metadata": {},
   "outputs": [
    {
     "name": "stdout",
     "output_type": "stream",
     "text": [
      "Help on function divisible in module __main__:\n",
      "\n",
      "divisible(n: int = 1) -> bool\n",
      "    Cette fonction permet de calculer la divisibilite d'un nombre entier n par 5 et par 3\n",
      "\n"
     ]
    }
   ],
   "source": [
    "def divisible(n:int=1) -> bool:\n",
    "    \"\"\"\n",
    "    Cette fonction permet de calculer la divisibilite d'un nombre entier n par 5 et par 3\n",
    "    \"\"\"\n",
    "    if n % 5 == 0 and n % 3 == 0:\n",
    "       return True\n",
    "    return False\n",
    "\n",
    "help(divisible)"
   ]
  },
  {
   "cell_type": "markdown",
   "metadata": {},
   "source": [
    "<p>Quand on fait appel à une fonction, on peut fournir les arguments soit par ordre de position, soit en utilisant les noms des arguments. Cependant, si l'on utilise le nom d'un argument une seule fois, on doit également utiliser cette méthode pour le reste des arguments.</p>"
   ]
  },
  {
   "cell_type": "code",
   "execution_count": 6,
   "metadata": {},
   "outputs": [
    {
     "name": "stdout",
     "output_type": "stream",
     "text": [
      "False\n",
      "False\n",
      "False\n"
     ]
    }
   ],
   "source": [
    "def divisible (x:int, y:int = 5, z:int= 3) -> bool:\n",
    "    \"\"\"\n",
    "    Cette fonction verifie la divisibilite d'un nombre x par deux nombre y et z\n",
    "    \"\"\"\n",
    "    if x % y == 0 and x % z == 0 :\n",
    "        return True\n",
    "    return False\n",
    "\n",
    "a = divisible (y = 5, z = 2, x = 1)\n",
    "b = divisible (1, y = 3, z = 8)\n",
    "c = divisible (3, 2, 4)\n",
    "print(a, b, c, sep='\\n')\n"
   ]
  },
  {
   "cell_type": "markdown",
   "metadata": {},
   "source": [
    "<p>Une autre methode pour declarer une fonction est le mot cle lambda, cette methode peut declarer une fonction en une ligne </p>"
   ]
  },
  {
   "cell_type": "code",
   "execution_count": 1,
   "metadata": {},
   "outputs": [
    {
     "name": "stdout",
     "output_type": "stream",
     "text": [
      "False\n"
     ]
    }
   ],
   "source": [
    "divisible = lambda x : x % 5 == 0 and x % 3 == 0\n",
    "print(divisible(5))"
   ]
  },
  {
   "cell_type": "markdown",
   "metadata": {},
   "source": [
    "<p>Cette methode peut permetre d'utiliser une fonction dans un processus sans la definire</p>"
   ]
  },
  {
   "cell_type": "code",
   "execution_count": 14,
   "metadata": {},
   "outputs": [
    {
     "name": "stdout",
     "output_type": "stream",
     "text": [
      "1 : False\n",
      "2 : False\n",
      "3 : False\n",
      "4 : False\n",
      "5 : False\n",
      "6 : False\n",
      "7 : False\n",
      "8 : False\n",
      "9 : False\n",
      "10 : False\n",
      "11 : False\n",
      "12 : False\n",
      "13 : False\n",
      "14 : False\n",
      "15 : True\n",
      "16 : False\n",
      "17 : False\n",
      "18 : False\n",
      "19 : False\n",
      "20 : False\n",
      "21 : False\n",
      "22 : False\n",
      "23 : False\n",
      "24 : False\n",
      "25 : False\n",
      "26 : False\n",
      "27 : False\n",
      "28 : False\n",
      "29 : False\n",
      "30 : True\n"
     ]
    }
   ],
   "source": [
    "#On veut appliquer la fonction divisible sur tous les elements d'une liste sans la declarer ni de declarer une autre liste, cecis peut etre realiser par la fonction map\n",
    "l = [i for i in range (1,31)]\n",
    "l2 = list (map (lambda x : x % 5 == 0 and  x % 3 == 0 , l))\n",
    "for i,j in zip(l, l2):\n",
    "    print(i,\":\",j)"
   ]
  },
  {
   "cell_type": "markdown",
   "metadata": {},
   "source": [
    "<h2>Paradigme de programmation</h2>\n",
    "<p>Le paradigme procédural est un style de programmation qui se concentre sur la séquence d'instructions et les procédures, où le programme est structuré en sous-programmes ou fonctions. Dans ce paradigme, le code est organisé de manière à exécuter des instructions de manière séquentielle, avec un emphasis sur les procédures qui regroupent des tâches spécifiques. Les données sont généralement partagées entre les procédures, et le contrôle du programme suit une approche impérative. Le paradigme procédural vise à diviser un problème complexe en tâches plus petites et plus gérables, facilitant ainsi la conception, la maintenance et la compréhension du code.</p>"
   ]
  },
  {
   "cell_type": "code",
   "execution_count": 15,
   "metadata": {},
   "outputs": [
    {
     "name": "stdout",
     "output_type": "stream",
     "text": [
      "True\n"
     ]
    }
   ],
   "source": [
    "def divisible (n: int):\n",
    "    if a % 5 == 0 and a % 3:\n",
    "        return True\n",
    "    elif a % 5 == 0:\n",
    "        return 5\n",
    "    elif a % 3 == 0:\n",
    "        return 3\n",
    "    else:\n",
    "        return False\n",
    "    \n",
    "while True:\n",
    "    a = input('Donnez un nombre: ')\n",
    "    if a.upper() == 'N':\n",
    "        break\n",
    "    try:\n",
    "        a = int(a)\n",
    "        print(divisible(a))\n",
    "    except:\n",
    "        print('valeur non numerique')\n",
    "    "
   ]
  },
  {
   "cell_type": "markdown",
   "metadata": {},
   "source": [
    "<p>Le paradigme fonctionnel est un style de programmation qui met l'accent sur l'utilisation de fonctions pures, sans état mutable et sans effets secondaires. Dans ce paradigme, les fonctions sont traitées comme des entités de première classe, pouvant être passées en tant qu'arguments et retournées comme résultats. L'approche fonctionnelle favorise l'immutabilité des données, ce qui signifie que les valeurs ne changent pas après leur création. Les programmes fonctionnels sont construits en combinant des fonctions pour créer des transformations de données, favorisant ainsi la clarté, la concision et la prévisibilité du code. Le paradigme fonctionnel est également associé à la récursivité et à la programmation déclarative, où l'accent est mis sur ce que le programme doit accomplir plutôt que sur comment atteindre ces objectifs.</p>"
   ]
  },
  {
   "cell_type": "code",
   "execution_count": 16,
   "metadata": {},
   "outputs": [
    {
     "name": "stdout",
     "output_type": "stream",
     "text": [
      "None numerique\n",
      "False\n",
      "None numerique\n",
      "False\n",
      "None numerique\n",
      "False\n",
      "None numerique\n",
      "False\n",
      "None numerique\n",
      "False\n"
     ]
    }
   ],
   "source": [
    "divisible3 = lambda x: x % 3 == 0\n",
    "divisible5 = lambda x: x % 5 == 0\n",
    "divisible = lambda x : divisible3(x) and divisible5(x)\n",
    "def validite (n:str):\n",
    "    try:\n",
    "        n = int(n)\n",
    "        return n\n",
    "    except:\n",
    "        print('None numerique')\n",
    "        return 1\n",
    "while True:\n",
    "    a = input('Donnez un nombre')\n",
    "    if a.upper() == 'N':\n",
    "        break\n",
    "    print(divisible(validite(a)))"
   ]
  },
  {
   "cell_type": "code",
   "execution_count": null,
   "metadata": {},
   "outputs": [],
   "source": []
  }
 ],
 "metadata": {
  "kernelspec": {
   "display_name": "Python 3",
   "language": "python",
   "name": "python3"
  },
  "language_info": {
   "codemirror_mode": {
    "name": "ipython",
    "version": 3
   },
   "file_extension": ".py",
   "mimetype": "text/x-python",
   "name": "python",
   "nbconvert_exporter": "python",
   "pygments_lexer": "ipython3",
   "version": "3.10.12"
  }
 },
 "nbformat": 4,
 "nbformat_minor": 2
}
